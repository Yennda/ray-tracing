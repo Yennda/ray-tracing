{
 "cells": [
  {
   "cell_type": "code",
   "execution_count": 1,
   "metadata": {
    "collapsed": false
   },
   "outputs": [],
   "source": [
    "from matplotlib.font_manager import FontProperties\n",
    "import IPython\n",
    "import matplotlib.pyplot as plt \n",
    "import matplotlib\n",
    "%matplotlib inline\n",
    "\n",
    "import numpy as np\n",
    "import math as m\n",
    "import copy\n",
    "\n",
    "import sys\n",
    "sys.path.append('C:/Users/jabuk/PycharmProjects')\n",
    "from textable.datalist import DataList\n",
    "from textable.main import TexTable\n",
    "\n",
    "from tracing import *"
   ]
  },
  {
   "cell_type": "code",
   "execution_count": 2,
   "metadata": {
    "collapsed": false
   },
   "outputs": [
    {
     "data": {
      "text/plain": [
       "1.0"
      ]
     },
     "execution_count": 2,
     "metadata": {},
     "output_type": "execute_result"
    }
   ],
   "source": [
    "c = Crystal(2.3, 5, 30, 500)\n",
    "p=c.points[44]\n",
    "np.linalg.norm(p.n)"
   ]
  },
  {
   "cell_type": "code",
   "execution_count": 3,
   "metadata": {
    "collapsed": false
   },
   "outputs": [
    {
     "data": {
      "image/png": "[encoded data removed]",
      "text/plain": [
       "<matplotlib.figure.Figure at 0x1b255a086d8>"
      ]
     },
     "metadata": {},
     "output_type": "display_data"
    }
   ],
   "source": [
    "x = [p.loc[0] for p in c.points]\n",
    "y = [p.loc[2] for p in c.points]\n",
    "\n",
    "fig = plt.figure(figsize=(6, 6))\n",
    "\n",
    "ax = fig.add_axes([0.2, 0.2, 0.7, 0.7])\n",
    "ax.set_ylim([27,33])\n",
    "ax.scatter(x, y, linewidth=2, color='green')\n",
    "\n",
    "ax.grid(True)"
   ]
  },
  {
   "cell_type": "code",
   "execution_count": null,
   "metadata": {
    "collapsed": true
   },
   "outputs": [],
   "source": [
    "a=np.array([0,2,0])\n",
    "b=Tools.rotate(a,[0,0,45],'deg')\n",
    "\n",
    "x = [a[0],b[0]]\n",
    "y = [a[1],b[1]]\n",
    "\n",
    "fig = plt.figure(figsize=(6, 6))\n",
    "\n",
    "ax = fig.add_axes([0.2, 0.2, 0.7, 0.7])\n",
    "ax.set_ylim([27,33])\n",
    "ax.scatter(x, y, linewidth=2, color='green')\n",
    "\n",
    "ax.grid(True)"
   ]
  }
 ],
 "metadata": {
  "kernelspec": {
   "display_name": "Python 3",
   "language": "python",
   "name": "python3"
  },
  "language_info": {
   "codemirror_mode": {
    "name": "ipython",
    "version": 3
   },
   "file_extension": ".py",
   "mimetype": "text/x-python",
   "name": "python",
   "nbconvert_exporter": "python",
   "pygments_lexer": "ipython3",
   "version": "3.5.2"
  }
 },
 "nbformat": 4,
 "nbformat_minor": 0
}
